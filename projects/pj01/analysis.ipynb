{
 "cells": [
  {
   "cell_type": "markdown",
   "metadata": {},
   "source": [
    "# PJ01: Data usage\n",
    "In this project, I will be using survey data taken from the comp110 class to ask the question \"Are students more likely to take notes during this class if they are synchronous or asynchronous?\". My hypothesis is that students will be more likely to be taking notes during class if they are in the synchronous section. I will be comparing the number of students who answered yes and no to the question about which section they are in and seeing which side has a higher rating of how much they keep notes for this class."
   ]
  },
  {
   "cell_type": "markdown",
   "metadata": {},
   "source": [
    "# Preparation of data\n",
    "To start off, I will add the necessary python cell for reloading, and then bring the data into the notebook."
   ]
  },
  {
   "cell_type": "code",
   "execution_count": 15,
   "metadata": {},
   "outputs": [],
   "source": [
    "    %reload_ext autoreload\n",
    "    %autoreload 2"
   ]
  },
  {
   "cell_type": "code",
   "execution_count": 16,
   "metadata": {},
   "outputs": [],
   "source": [
    "DATA_DIRECTORY=\"../../data\"\n",
    "DATA_FILE_PATH=f\"{DATA_DIRECTORY}/survey.csv\"\n"
   ]
  },
  {
   "cell_type": "markdown",
   "metadata": {},
   "source": [
    "Next I will read the CSV file into the notebook's memory, and then convert the data into a column-oriented table. To know that the data has been successfully read, I will print the column names as a list."
   ]
  },
  {
   "cell_type": "code",
   "execution_count": 17,
   "metadata": {},
   "outputs": [
    {
     "name": "stdout",
     "output_type": "stream",
     "text": [
      "Column names: dict_keys(['row_number', 'year', 'unc_status', 'comp_major', 'primary_major', 'data_science', 'prereqs', 'prior_exp', 'AP_Principles', 'AP_A', 'other_comp', 'prior_time', 'languages', 'section', 'in_person_classes', 'hours_online_social', 'hours_online_work', 'lesson_time', 'sync_perf', 'all_sync', 'own_notes', 'own_examples', 'oh_visits', 'ls_effective', 'lsqs_effective', 'programming_effective', 'qz_effective', 'oh_effective', 'tutoring_effective', 'kaki_effective', 'pace', 'difficulty', 'understanding', 'interesting', 'valuable', 'would_recommend'])\n"
     ]
    }
   ],
   "source": [
    "from data_utils import read_csv_rows, columnar\n",
    "data_rows: list[dict[str, str]] = read_csv_rows(DATA_FILE_PATH)\n",
    "columns: dict[str, list[str]] = columnar(data_rows)\n",
    "print(f\"Column names: {data_rows[0].keys()}\")\n"
   ]
  },
  {
   "cell_type": "markdown",
   "metadata": {},
   "source": [
    "# Choosing necessary data\n",
    "Now that I have all the possible data inside the notebook, I can isolate just the sections I need. I will use the select function to do so."
   ]
  },
  {
   "cell_type": "code",
   "execution_count": 18,
   "metadata": {},
   "outputs": [
    {
     "name": "stdout",
     "output_type": "stream",
     "text": [
      "['In-Person', 'In-Person', 'Remote', '', 'Remote', 'Remote', 'Remote', 'Remote', 'Remote', 'Remote', 'Remote', 'In-Person', 'In-Person', 'In-Person', 'In-Person', 'In-Person', 'In-Person', 'In-Person', 'In-Person', 'In-Person', 'In-Person', 'In-Person', 'In-Person', 'In-Person', 'In-Person', 'In-Person', 'In-Person', 'Remote', 'In-Person', 'In-Person', 'In-Person', 'In-Person', 'Remote', 'In-Person', 'Remote', 'In-Person', 'Remote', 'Remote', 'Remote', 'Remote', 'In-Person', 'In-Person', 'In-Person', 'In-Person', 'In-Person', 'In-Person', 'In-Person', 'Remote', 'Remote', 'Remote', 'Remote', 'In-Person', 'In-Person', 'In-Person', 'Remote', '', 'Remote', 'Remote', 'In-Person', 'Remote', 'Remote', 'In-Person', 'Remote', 'In-Person', 'In-Person', 'In-Person', 'In-Person', 'In-Person', 'In-Person', 'In-Person', 'In-Person', 'In-Person', '', 'Remote', 'Remote', 'Remote', 'In-Person', 'In-Person', 'In-Person', 'In-Person', 'In-Person', 'In-Person', 'In-Person', 'In-Person', 'In-Person', 'In-Person', 'In-Person', 'In-Person', 'Remote', 'In-Person', 'In-Person', 'In-Person', 'In-Person', 'In-Person', 'Remote', 'In-Person', 'Remote', 'In-Person', 'Remote', 'In-Person', 'In-Person', 'Remote', 'In-Person', 'In-Person', 'In-Person', 'In-Person', 'In-Person', 'In-Person', 'In-Person', 'Remote', 'In-Person', 'In-Person', 'In-Person', 'In-Person', 'Remote', 'In-Person', 'In-Person', '', 'In-Person', 'In-Person', 'Remote', 'In-Person', 'In-Person', 'In-Person', 'In-Person', 'Remote', 'In-Person', 'In-Person', 'In-Person', 'In-Person', 'In-Person', 'Remote', '', 'Remote', '', 'Remote', '', '', 'Remote', 'Remote', '', 'Remote', 'Remote', 'Remote', 'Remote', 'Remote', 'Remote', 'Remote', 'Remote', 'Remote', 'Remote', 'Remote', 'Remote', 'Remote', 'Remote', 'Remote', 'Remote', 'Remote', 'Remote', 'Remote', 'Remote', 'Remote', 'Remote', 'Remote', 'Remote', 'In-Person', 'In-Person', 'In-Person', 'In-Person', 'In-Person', 'In-Person', 'In-Person', 'In-Person', 'In-Person', 'In-Person', 'In-Person', 'In-Person', 'In-Person', 'In-Person', 'In-Person', 'In-Person', 'In-Person', 'In-Person', 'In-Person', 'In-Person', 'In-Person', 'In-Person', 'In-Person', 'In-Person', 'In-Person', 'Remote', 'In-Person', 'In-Person', 'In-Person', 'In-Person', 'Remote', 'Remote', 'In-Person', 'Remote', 'Remote', 'Remote', 'Remote', 'In-Person', 'Remote', 'Remote', 'Remote', 'Remote', 'In-Person', 'In-Person', 'In-Person', 'In-Person', 'Remote', 'In-Person', 'Remote', 'In-Person', 'In-Person', 'In-Person', 'In-Person', 'Remote', 'Remote', 'In-Person', 'In-Person', 'In-Person', 'Remote', 'In-Person', 'In-Person', 'In-Person', 'In-Person', 'In-Person', 'Remote', 'Remote', 'Remote', 'In-Person', 'In-Person', 'Remote', 'Remote', 'In-Person', 'Remote', 'Remote', 'Remote', 'Remote', 'Remote', 'In-Person', 'Remote', 'In-Person', 'In-Person', 'Remote', 'Remote', 'In-Person', 'Remote', 'In-Person', 'Remote', 'Remote', 'In-Person', 'In-Person', 'In-Person', 'In-Person', 'In-Person', 'In-Person', 'Remote', 'In-Person', 'In-Person', '', '', 'In-Person', 'In-Person', 'In-Person', 'In-Person', 'In-Person', 'Remote', 'Remote', 'In-Person', 'Remote', 'In-Person', 'In-Person', 'In-Person', 'Remote', 'Remote', 'Remote', 'Remote', 'In-Person', 'Remote', 'Remote', 'In-Person', 'In-Person', 'In-Person', 'In-Person', 'In-Person', 'In-Person', 'In-Person', 'In-Person', 'Remote', 'Remote', 'Remote', 'Remote', 'Remote', 'Remote', 'Remote', 'In-Person', 'In-Person', 'In-Person', 'In-Person', 'In-Person', 'In-Person', 'Remote', 'In-Person', 'In-Person', 'Remote', 'In-Person', 'Remote', 'In-Person', 'In-Person', 'In-Person', 'Remote', 'Remote', 'In-Person', 'In-Person', 'Remote', 'In-Person', 'In-Person', 'In-Person', 'In-Person', 'In-Person', 'In-Person', 'In-Person', 'In-Person', '', 'In-Person', 'Remote', 'In-Person', 'In-Person', 'In-Person', 'Remote', 'Remote', 'In-Person', 'In-Person', 'In-Person', 'In-Person', 'In-Person', 'In-Person', 'In-Person', 'Remote', 'Remote', 'Remote', 'Remote', 'Remote', 'Remote', '', 'In-Person', 'In-Person', 'Remote', 'In-Person', 'In-Person', 'In-Person', 'In-Person', 'In-Person', 'In-Person', '', 'In-Person', 'In-Person', '', 'In-Person', 'Remote', 'In-Person', 'Remote', 'In-Person', 'In-Person', '', 'Remote', 'In-Person', 'In-Person', 'In-Person', 'In-Person', 'Remote', 'In-Person', 'Remote', 'Remote', 'Remote', 'In-Person', 'In-Person', 'In-Person', 'In-Person', 'In-Person', 'In-Person', 'In-Person', 'In-Person', 'In-Person', 'In-Person', 'In-Person', 'In-Person', 'In-Person', 'In-Person', 'In-Person', 'In-Person', 'In-Person', 'In-Person', 'Remote', 'In-Person', 'Remote', 'Remote', 'In-Person', 'In-Person', 'In-Person', 'Remote', 'Remote', 'Remote', 'In-Person', 'Remote', 'In-Person', 'Remote', 'Remote', 'Remote', 'In-Person', 'In-Person', 'In-Person', 'In-Person', 'Remote', 'In-Person', 'In-Person', 'In-Person', 'Remote', 'In-Person', 'In-Person', 'Remote', 'In-Person', 'Remote', 'Remote', '', 'In-Person', 'In-Person', 'Remote', 'In-Person', 'Remote', 'In-Person', 'Remote', 'In-Person', 'Remote', 'Remote', 'In-Person', 'In-Person', 'In-Person', 'In-Person', 'Remote', 'In-Person', 'Remote', 'In-Person', 'Remote', 'Remote', '', 'In-Person', '', '', '', 'In-Person', '', 'Remote', 'Remote', 'Remote', 'Remote', 'Remote', 'In-Person', 'In-Person', 'In-Person', 'In-Person', 'In-Person', 'In-Person', 'In-Person', 'In-Person', 'In-Person', 'In-Person', 'In-Person', 'Remote', 'In-Person', 'In-Person', 'In-Person', 'In-Person', 'Remote', 'Remote', 'Remote', 'Remote', '', '', 'Remote', 'In-Person', 'In-Person', 'In-Person', 'In-Person', 'In-Person', 'In-Person', 'In-Person', 'In-Person', 'In-Person', 'In-Person', '', 'In-Person', 'In-Person', 'Remote', 'In-Person', 'In-Person', 'In-Person', 'In-Person', 'In-Person', '', 'Remote', 'Remote', 'Remote', 'In-Person', 'Remote', 'Remote', 'In-Person', 'In-Person', 'In-Person', 'In-Person', 'Remote', '', 'In-Person', 'Remote', '', 'In-Person', 'In-Person', '', 'In-Person', 'In-Person', 'In-Person', 'In-Person', 'In-Person', '', 'Remote', 'In-Person', 'In-Person', 'In-Person', 'In-Person', 'In-Person', 'Remote', 'In-Person', 'In-Person', 'In-Person', 'In-Person', 'In-Person', 'In-Person', 'In-Person', 'Remote', 'Remote', 'In-Person', 'In-Person', 'In-Person', 'Remote', 'In-Person', 'Remote', 'In-Person', 'In-Person', 'In-Person', 'In-Person', 'Remote', 'In-Person', 'In-Person', 'In-Person', 'Remote', 'In-Person', 'In-Person', 'Remote', 'In-Person', 'In-Person', 'Remote', 'In-Person', 'In-Person', 'In-Person', 'Remote', 'In-Person', 'In-Person', 'In-Person', 'In-Person', '']\n",
      "['4', '7', '7', '6', '5', '7', '4', '7', '7', '6', '7', '4', '7', '7', '4', '7', '7', '7', '7', '7', '6', '4', '6', '6', '2', '7', '7', '7', '7', '6', '4', '4', '7', '6', '7', '7', '7', '6', '7', '7', '6', '7', '7', '7', '7', '7', '2', '3', '5', '4', '7', '7', '6', '6', '7', '7', '7', '7', '7', '6', '1', '5', '2', '5', '7', '7', '4', '6', '5', '7', '7', '7', '6', '7', '7', '7', '5', '7', '4', '5', '6', '6', '7', '3', '7', '5', '5', '5', '6', '7', '6', '7', '5', '7', '5', '6', '5', '7', '4', '7', '7', '6', '7', '7', '3', '4', '6', '7', '4', '7', '7', '7', '7', '7', '6', '5', '7', '5', '7', '7', '6', '6', '5', '6', '5', '4', '7', '7', '7', '7', '6', '5', '6', '3', '7', '7', '2', '6', '6', '6', '3', '7', '6', '5', '5', '4', '7', '7', '7', '5', '2', '2', '7', '5', '5', '4', '7', '6', '5', '6', '3', '4', '4', '7', '6', '7', '7', '3', '7', '7', '3', '1', '6', '4', '5', '7', '7', '6', '5', '7', '6', '7', '7', '7', '4', '4', '3', '3', '7', '6', '4', '5', '7', '4', '1', '5', '7', '6', '4', '4', '7', '2', '7', '5', '7', '4', '5', '3', '7', '5', '7', '7', '7', '7', '6', '5', '4', '7', '7', '1', '6', '5', '7', '7', '2', '7', '7', '4', '5', '5', '7', '3', '7', '4', '1', '6', '7', '5', '7', '5', '7', '7', '3', '7', '4', '7', '7', '5', '7', '4', '4', '7', '7', '7', '4', '3', '4', '6', '7', '6', '6', '6', '2', '5', '7', '7', '6', '4', '6', '7', '6', '6', '2', '4', '7', '6', '6', '7', '7', '5', '6', '5', '7', '6', '7', '7', '4', '5', '5', '7', '4', '7', '6', '7', '7', '4', '6', '7', '6', '7', '6', '6', '6', '7', '6', '7', '7', '7', '7', '7', '6', '7', '7', '6', '5', '7', '5', '7', '5', '5', '6', '7', '6', '7', '5', '5', '7', '6', '7', '7', '7', '5', '7', '7', '7', '6', '4', '2', '6', '7', '4', '7', '7', '7', '7', '4', '4', '7', '5', '4', '7', '6', '6', '7', '7', '7', '7', '6', '5', '6', '7', '7', '4', '4', '7', '7', '7', '7', '7', '7', '6', '5', '5', '6', '5', '7', '7', '7', '4', '4', '7', '7', '7', '6', '7', '7', '7', '7', '7', '7', '6', '6', '3', '6', '7', '6', '6', '5', '3', '4', '5', '5', '7', '7', '7', '7', '6', '5', '6', '7', '5', '7', '6', '3', '5', '7', '5', '5', '5', '7', '6', '7', '6', '7', '7', '7', '7', '7', '7', '7', '7', '7', '7', '7', '4', '4', '3', '7', '5', '6', '7', '5', '7', '7', '7', '7', '6', '7', '7', '5', '6', '7', '5', '5', '7', '7', '7', '7', '5', '5', '7', '7', '7', '7', '4', '7', '7', '7', '6', '6', '2', '7', '6', '7', '5', '6', '3', '5', '7', '6', '7', '7', '7', '5', '1', '7', '7', '7', '7', '6', '7', '6', '7', '7', '7', '5', '6', '6', '7', '7', '7', '6', '5', '6', '6', '7', '5', '7', '7', '6', '7', '7', '7', '5', '7', '7', '6', '4', '7', '7', '6', '4', '7', '7', '7', '7', '7', '7', '5', '7', '6', '6', '4', '6', '5', '6', '7', '4', '7', '6', '5', '7', '7', '7', '6', '6', '6', '7', '6', '6', '5', '6', '4', '7', '6', '7', '7', '7', '7', '7', '7', '7', '7', '7', '7', '5', '6', '7', '7', '6', '6', '7', '3']\n"
     ]
    }
   ],
   "source": [
    "from data_utils import select\n",
    "selected_data: dict[str, list[str]] = select(columns, [\"section\", \"own_notes\"])"
   ]
  },
  {
   "cell_type": "markdown",
   "metadata": {},
   "source": [
    "This looks like a lot of information, so for simplicities sake, I will display the first 5 rows to be able to understand in a more concise manner what we are working with here."
   ]
  },
  {
   "cell_type": "code",
   "execution_count": 24,
   "metadata": {},
   "outputs": [
    {
     "data": {
      "text/plain": [
       "{'section': ['In-Person', 'In-Person', 'Remote', '', 'Remote'],\n",
       " 'own_notes': ['4']}"
      ]
     },
     "execution_count": 24,
     "metadata": {},
     "output_type": "execute_result"
    }
   ],
   "source": [
    "from data_utils import head\n",
    "data_head: dict[str, list[str]] = head(selected_data, 5)\n",
    "data_head"
   ]
  },
  {
   "cell_type": "markdown",
   "metadata": {},
   "source": [
    "# Using the data\n",
    "I will now use the count function to figure out how many students are in each section."
   ]
  },
  {
   "cell_type": "code",
   "execution_count": 19,
   "metadata": {},
   "outputs": [
    {
     "name": "stdout",
     "output_type": "stream",
     "text": [
      "{'In-Person': 350, 'Remote': 192, '': 31}\n"
     ]
    }
   ],
   "source": [
    "from data_utils import count\n",
    "section_count: dict[str, int] = count(selected_data[\"section\"])\n",
    "print(section_count)"
   ]
  },
  {
   "cell_type": "markdown",
   "metadata": {},
   "source": [
    "Now I will find the total of the associated values for how likely someone is to take notes during class."
   ]
  },
  {
   "cell_type": "code",
   "execution_count": 20,
   "metadata": {},
   "outputs": [
    {
     "data": {
      "text/plain": [
       "{'In-Person': 2072, 'Remote': 1127, '': 181}"
      ]
     },
     "execution_count": 20,
     "metadata": {},
     "output_type": "execute_result"
    }
   ],
   "source": [
    "from data_utils import total\n",
    "totals: dict[str, int] = total(selected_data, \"own_notes\", \"section\", \"In-Person\", \"Remote\", \"\")\n",
    "totals\n",
    "    "
   ]
  },
  {
   "cell_type": "markdown",
   "metadata": {},
   "source": [
    "This does not give us a good indication of which result is higher, as there are almost twice as many people in-person as opposed to remote. So finally, to compare, I will take the average score per person per section by dividing the values in the \"totals\" dictionary by the number of people from the \"section_count\" dictionary."
   ]
  },
  {
   "cell_type": "code",
   "execution_count": 25,
   "metadata": {},
   "outputs": [
    {
     "data": {
      "text/plain": [
       "{'In-Person': 5.92, 'Remote': 5.869791666666667, '': 5.838709677419355}"
      ]
     },
     "execution_count": 25,
     "metadata": {},
     "output_type": "execute_result"
    }
   ],
   "source": [
    "from data_utils import average\n",
    "answer: dict[str, float] = average(section_count, totals)\n",
    "answer"
   ]
  },
  {
   "cell_type": "markdown",
   "metadata": {},
   "source": [
    "# Conclusion\n",
    "Based on the final code cell, it seems as though the the rating given by people in the in person section for how likely they are to take notes during class is on average the same as the rating given by those in the remote section, with only a difference of 0.05. Based on this, it is clear that my hypothesis was wrong, and that on average whether you are in the remote or in-person class has no effect on whether you take notes during class."
   ]
  }
 ],
 "metadata": {
  "interpreter": {
   "hash": "aee8b7b246df8f9039afb4144a1f6fd8d2ca17a180786b69acc140d282b71a49"
  },
  "kernelspec": {
   "display_name": "Python 3.9.6 64-bit",
   "language": "python",
   "name": "python3"
  },
  "language_info": {
   "codemirror_mode": {
    "name": "ipython",
    "version": 3
   },
   "file_extension": ".py",
   "mimetype": "text/x-python",
   "name": "python",
   "nbconvert_exporter": "python",
   "pygments_lexer": "ipython3",
   "version": "3.9.6"
  },
  "orig_nbformat": 4
 },
 "nbformat": 4,
 "nbformat_minor": 2
}
